{
 "cells": [
  {
   "cell_type": "markdown",
   "source": [
    "# Tests de performance application IPS-rest et IPS-graphql"
   ],
   "metadata": {}
  },
  {
   "cell_type": "markdown",
   "source": [
    "## Préparation : génération de la topologie"
   ],
   "metadata": {}
  },
  {
   "cell_type": "markdown",
   "source": [
    "Fonctions de création de la topologie avec les APIs Rest et GraphQL :"
   ],
   "metadata": {}
  },
  {
   "cell_type": "code",
   "execution_count": 1,
   "source": [
    "import requests\r\n",
    "from requests.auth import HTTPBasicAuth\r\n",
    "import networkx as nx\r\n",
    "import matplotlib.pyplot as plt\r\n",
    "import time\r\n",
    "import itertools\r\n",
    "import random\r\n",
    "import numpy as np\r\n",
    "\r\n",
    "def create_graph_graphql(ip):\r\n",
    "    # initialisation du graphe\r\n",
    "    gr = nx.DiGraph()\r\n",
    "\r\n",
    "    # requêtes au contrôleur ONOS\r\n",
    "    url = \"http://\"+ip+\":5000/graphql\"\r\n",
    "    liens_query = {'query': \"query{liens{src,dst}}\"}\r\n",
    "    host_query = {'query': \"query{hosts{id,locations}}\"}\r\n",
    "    r_hosts = requests.post(url, auth=HTTPBasicAuth('karaf','karaf'), data = host_query)\r\n",
    "    r_links = requests.post(url, auth=HTTPBasicAuth('karaf','karaf'), data = liens_query)\r\n",
    "\r\n",
    "    if (r_hosts.status_code != 200):\r\n",
    "        return \"Erreur sur la liste des hôtes.\"\r\n",
    "    elif (r_links.status_code != 200):\r\n",
    "        return \"Erreur sur la liste des liens.\"\r\n",
    "    else:\r\n",
    "        global host_list_mac_gq\r\n",
    "        host_list_mac_gq = []\r\n",
    "        host_list = r_hosts.json()['data']['hosts']\r\n",
    "        link_list = r_links.json()['data']['liens']\r\n",
    "        \r\n",
    "        for l in link_list:\r\n",
    "            gr.add_edge(l['src']['device'],l['dst']['device'],orig=l['src']['port'],dest=l['dst']['port'])\r\n",
    "            gr.add_edge(l['dst']['device'],l['src']['device'],orig=l['dst']['port'],dest=l['src']['port'])\r\n",
    "        \r\n",
    "        for h in host_list:\r\n",
    "            gr.add_node(h['id'],id=h['id'])\r\n",
    "            host_list_mac_gq.append(h['id'])\r\n",
    "            gr.add_edge(h['id'],h['locations'][0][\"elementId\"],orig=\"host\",dest=h['locations'][0][\"port\"])\r\n",
    "            gr.add_edge(h['locations'][0][\"elementId\"],h['id'],orig=h['locations'][0][\"port\"],dest=\"host\")\r\n",
    "        \r\n",
    "        return gr\r\n",
    "    \r\n",
    "def create_graph_rest(ip):\r\n",
    "    # initialisation du graphe\r\n",
    "    gr = nx.DiGraph()\r\n",
    "\r\n",
    "    # requêtes au contrôleur ONOS\r\n",
    "    r_host = requests.get(\"http://\"+ip+\":5000/hosts\", auth=HTTPBasicAuth('karaf','karaf'))\r\n",
    "    r_link = requests.get(\"http://\"+ip+\":5000/links\", auth=HTTPBasicAuth('karaf','karaf'))\r\n",
    "    if (r_host.status_code != 200):\r\n",
    "        return \"Erreur sur la liste des hôtes.\"\r\n",
    "    elif (r_link.status_code != 200):\r\n",
    "        return \"Erreur sur la liste des liens.\"\r\n",
    "    else:\r\n",
    "        global host_list_mac_re\r\n",
    "        host_list_mac_re = []\r\n",
    "        host_list = r_host.json()\r\n",
    "        link_list = r_link.json()\r\n",
    "        \r\n",
    "        for l in link_list:\r\n",
    "            gr.add_edge(l['src']['device'],l['dst']['device'],orig=l['src']['port'],dest=l['dst']['port'])\r\n",
    "            gr.add_edge(l['dst']['device'],l['src']['device'],orig=l['dst']['port'],dest=l['src']['port'])\r\n",
    "        \r\n",
    "        for h in host_list:\r\n",
    "            gr.add_node(h['id'],id=h['id'])\r\n",
    "            host_list_mac_re.append(h['id'])\r\n",
    "            gr.add_edge(h['id'],h['locations'][0][\"elementId\"],orig=\"host\",dest=h['locations'][0][\"port\"])\r\n",
    "            gr.add_edge(h['locations'][0][\"elementId\"],h['id'],orig=h['locations'][0][\"port\"],dest=\"host\")\r\n",
    "        \r\n",
    "        return gr\r\n",
    "\r\n",
    "gr_rest = create_graph_rest(\"192.168.1.154\")\r\n",
    "gr_graphql = create_graph_graphql(\"192.168.1.154\")"
   ],
   "outputs": [],
   "metadata": {}
  },
  {
   "cell_type": "markdown",
   "source": [
    "## Test 1 : topologie mininet tree,depth=2,fanout=3 - 9 hôtes, 6 liens"
   ],
   "metadata": {}
  },
  {
   "cell_type": "markdown",
   "source": [
    "- on sélectionne au hasard un nombre N de couples d'hôtes à relier\n",
    "- on installe les intents nécessaires au bon routage des paquets\n",
    "\n",
    "On génère tout d'abord une liste de 5, 20 et 50 couples d'hôtes à relier :"
   ],
   "metadata": {}
  },
  {
   "cell_type": "code",
   "execution_count": 2,
   "source": [
    "liste_couples = list(itertools.combinations(host_list_mac_re, 2))\r\n",
    "\r\n",
    "liste_res = []\r\n",
    "for i in range(1,11):\r\n",
    "    liste_res.append(random.choices(liste_couples, k=3*i))"
   ],
   "outputs": [],
   "metadata": {}
  },
  {
   "cell_type": "markdown",
   "source": [
    "Pour chaque couple d'hôtes, on installe les intents :"
   ],
   "metadata": {}
  },
  {
   "cell_type": "code",
   "execution_count": 3,
   "source": [
    "def install_intent_re(mac_o,mac_d,liste_chemin):\r\n",
    "    l=liste_chemin\r\n",
    "    fwd_orig = (\"\",\"\")\r\n",
    "    fwd_dest = (\"\",\"\")\r\n",
    "    mac_orig = mac_o.replace(\"/None\",\"\")\r\n",
    "    mac_dest = mac_d.replace(\"/None\",\"\")\r\n",
    "    for i in range(0,len(l)-1):\r\n",
    "        if i==len(l)-2:\r\n",
    "            port = gr_rest.get_edge_data(l[i],l[i+1])\r\n",
    "            fwd_dest = (l[i],port[\"orig\"])\r\n",
    "            intent_orig = fwd_orig[0]+\"-\"+fwd_orig[1]\r\n",
    "            intent_dest = fwd_dest[0]+\"-\"+fwd_dest[1]\r\n",
    "            r_intent = requests.get(\"http://192.168.1.154:5000/intent?orig=\"+intent_orig+\"&dest=\"+intent_dest\r\n",
    "            +\"&macorig=\"+mac_orig+\"&macdest=\"+mac_dest)\r\n",
    "            r_intent_inv = requests.get(\"http://192.168.1.154:5000/intent?orig=\"+intent_dest+\"&dest=\"+intent_orig\r\n",
    "            +\"&macorig=\"+mac_dest+\"&macdest=\"+mac_orig)\r\n",
    "        else:\r\n",
    "            port = gr_rest.get_edge_data(l[i],l[i+1])\r\n",
    "            if (port[\"orig\"]==\"host\"):\r\n",
    "                fwd_orig = (l[i+1],port[\"dest\"])\r\n",
    "            else:\r\n",
    "                fwd_dest = (l[i],port[\"orig\"])\r\n",
    "                if (port[\"orig\"]!=\"host\"):\r\n",
    "                    intent_orig = fwd_orig[0]+\"-\"+fwd_orig[1]\r\n",
    "                    intent_dest = fwd_dest[0]+\"-\"+fwd_dest[1]\r\n",
    "                    r_intent = requests.get(\"http://192.168.1.154:5000/intent?orig=\"+intent_orig+\"&dest=\"+intent_dest\r\n",
    "                    +\"&macorig=\"+mac_orig+\"&macdest=\"+mac_dest)\r\n",
    "                    r_intent_inv = requests.get(\"http://192.168.1.154:5000/intent?orig=\"+intent_dest+\"&dest=\"+intent_orig\r\n",
    "            +\"&macorig=\"+mac_dest+\"&macdest=\"+mac_orig)\r\n",
    "\r\n",
    "                    fwd_orig = (l[i+1],port[\"dest\"])\r\n",
    "                else:\r\n",
    "                    fwd_orig = (\"\",\"\")\r\n",
    "    return \"ok\"\r\n",
    "\r\n",
    "def install_intent_gq(mac_o,mac_d,liste_chemin):\r\n",
    "    l=liste_chemin\r\n",
    "    fwd_orig = (\"\",\"\")\r\n",
    "    fwd_dest = (\"\",\"\")\r\n",
    "    mac_orig = mac_o.replace(\"/None\",\"\")\r\n",
    "    mac_dest = mac_d.replace(\"/None\",\"\")\r\n",
    "    string_mut=\"mutation { \\n\"\r\n",
    "        \r\n",
    "\r\n",
    "    for i in range(0,len(l)-1):\r\n",
    "        if i==len(l)-2:\r\n",
    "            port = gr_graphql.get_edge_data(l[i],l[i+1])\r\n",
    "            fwd_dest = (l[i],port[\"orig\"])\r\n",
    "            intent_orig = fwd_orig[0]+\"/\"+fwd_orig[1]\r\n",
    "            intent_dest = fwd_dest[0]+\"/\"+fwd_dest[1]\r\n",
    "            string_mut += \"r\"+str(i)+\": addIntent(intent_orig: \\\"\"+intent_orig+\"\\\", mac_orig: \\\"\"+mac_orig+\"\\\", intent_dest: \\\"\"+intent_dest+\"\\\", mac_dest: \\\"\"+mac_dest+\"\\\") { intent_orig, intent_dest }\\n\"\r\n",
    "            string_mut += \"s\"+str(i)+\": addIntent(intent_orig: \\\"\"+intent_dest+\"\\\", mac_orig: \\\"\"+mac_dest+\"\\\", intent_dest: \\\"\"+intent_orig+\"\\\", mac_dest: \\\"\"+mac_orig+\"\\\") { intent_orig, intent_dest }\\n\"\r\n",
    "        else:\r\n",
    "            port = gr_graphql.get_edge_data(l[i],l[i+1])\r\n",
    "            if (port[\"orig\"]==\"host\"):\r\n",
    "                fwd_orig = (l[i+1],port[\"dest\"])\r\n",
    "            else:\r\n",
    "                fwd_dest = (l[i],port[\"orig\"])\r\n",
    "                if (port[\"orig\"]!=\"host\"):\r\n",
    "                    intent_orig = fwd_orig[0]+\"/\"+fwd_orig[1]\r\n",
    "                    intent_dest = fwd_dest[0]+\"/\"+fwd_dest[1]\r\n",
    "\r\n",
    "                    string_mut += \"r\"+str(i)+\": addIntent(intent_orig: \\\"\"+intent_orig+\"\\\", mac_orig: \\\"\"+mac_orig+\"\\\", intent_dest: \\\"\"+intent_dest+\"\\\", mac_dest: \\\"\"+mac_dest+\"\\\") { intent_orig, intent_dest }\\n\"\r\n",
    "                    string_mut += \"s\"+str(i)+\": addIntent(intent_orig: \\\"\"+intent_dest+\"\\\", mac_orig: \\\"\"+mac_dest+\"\\\", intent_dest: \\\"\"+intent_orig+\"\\\", mac_dest: \\\"\"+mac_orig+\"\\\") { intent_orig, intent_dest }\\n\"\r\n",
    "\r\n",
    "                    fwd_orig = (l[i+1],port[\"dest\"])\r\n",
    "                else:\r\n",
    "                    fwd_orig = (\"\",\"\")\r\n",
    "\r\n",
    "    string_mut += \"}\"\r\n",
    "    mutation_query = {'query': string_mut}\r\n",
    "    query_gql = requests.post(\"http://192.168.1.154:5000/graphql\", auth=HTTPBasicAuth('karaf','karaf'), data = mutation_query)\r\n",
    "    return \"ok\"\r\n",
    "\r\n",
    "temps_re = []\r\n",
    "temps_gq = []\r\n",
    "for i in liste_res:\r\n",
    "    start = time.time()\r\n",
    "    for elt in i:\r\n",
    "        clean = requests.get(\"http://192.168.1.154:5000/removeIntents\")\r\n",
    "        install_intent_re(elt[0],elt[1],nx.shortest_path(gr_rest,elt[0],elt[1]))\r\n",
    "    end = time.time()\r\n",
    "    temps_re.append(round(end-start,1))\r\n",
    "\r\n",
    "for i in liste_res:\r\n",
    "    start = time.time()\r\n",
    "    for elt in i:\r\n",
    "        clean = requests.get(\"http://192.168.1.154:5000/removeIntents\")\r\n",
    "        install_intent_gq(elt[0],elt[1],nx.shortest_path(gr_graphql,elt[0],elt[1]))\r\n",
    "    end = time.time()\r\n",
    "    temps_gq.append(round(end-start,1))\r\n",
    "\r\n",
    "print(temps_re)\r\n",
    "print(temps_gq)"
   ],
   "outputs": [
    {
     "output_type": "stream",
     "name": "stdout",
     "text": [
      "[1.3, 2.8, 3.1, 6.0, 6.7, 8.3, 8.7, 10.0, 12.3, 10.8]\n",
      "[0.8, 2.4, 2.8, 6.0, 6.5, 8.3, 8.8, 9.3, 12.2, 10.5]\n"
     ]
    }
   ],
   "metadata": {}
  },
  {
   "cell_type": "code",
   "execution_count": 4,
   "source": [
    "labels = []\r\n",
    "for i in range(1,11):\r\n",
    "    labels.append(str(3*i))\r\n",
    "\r\n",
    "x = np.arange(len(labels))\r\n",
    "width = 0.35\r\n",
    "\r\n",
    "fig, ax = plt.subplots(figsize=(10,8))\r\n",
    "rects1 = ax.bar(x - width/2, temps_re, width, label='Rest')\r\n",
    "rects2 = ax.bar(x + width/2, temps_gq, width, label='GraphQL')\r\n",
    "\r\n",
    "# Add some text for labels, title and custom x-axis tick labels, etc.\r\n",
    "ax.set_xlabel('Nombre de couples générés')\r\n",
    "ax.set_ylabel('Temps en secondes')\r\n",
    "ax.set_title('Temps de génération des intents')\r\n",
    "ax.set_xticks(x)\r\n",
    "ax.set_xticklabels(labels)\r\n",
    "ax.legend()\r\n",
    "\r\n",
    "ax.bar_label(rects1)\r\n",
    "ax.bar_label(rects2)\r\n",
    "\r\n",
    "fig.tight_layout()\r\n",
    "\r\n",
    "plt.show()"
   ],
   "outputs": [
    {
     "output_type": "display_data",
     "data": {
      "text/plain": [
       "<Figure size 720x576 with 1 Axes>"
      ],
      "image/png": "[encoded data removed]"
     },
     "metadata": {
      "needs_background": "light"
     }
    }
   ],
   "metadata": {}
  }
 ],
 "metadata": {
  "kernelspec": {
   "name": "python3",
   "display_name": "Python 3.9.5 64-bit"
  },
  "language_info": {
   "codemirror_mode": {
    "name": "ipython",
    "version": 3
   },
   "file_extension": ".py",
   "mimetype": "text/x-python",
   "name": "python",
   "nbconvert_exporter": "python",
   "pygments_lexer": "ipython3",
   "version": "3.9.5"
  },
  "interpreter": {
   "hash": "ac59ebe37160ed0dfa835113d9b8498d9f09ceb179beaac4002f036b9467c963"
  }
 },
 "nbformat": 4,
 "nbformat_minor": 5
}