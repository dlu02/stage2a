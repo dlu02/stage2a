{
 "cells": [
  {
   "cell_type": "markdown",
   "id": "885e98e5",
   "metadata": {},
   "source": [
    "# Tests de performance application IPS-rest et IPS-graphql"
   ]
  },
  {
   "cell_type": "markdown",
   "id": "51819e81",
   "metadata": {},
   "source": [
    "## Préparation : génération de la topologie"
   ]
  },
  {
   "cell_type": "markdown",
   "id": "f467e773",
   "metadata": {},
   "source": [
    "Fonctions de création de la topologie avec les APIs Rest et GraphQL :"
   ]
  },
  {
   "cell_type": "code",
   "execution_count": 19,
   "id": "0300cf17",
   "metadata": {},
   "outputs": [],
   "source": [
    "import requests\n",
    "from requests.auth import HTTPBasicAuth\n",
    "import networkx as nx\n",
    "import matplotlib.pyplot as plt\n",
    "import time\n",
    "import itertools\n",
    "import random\n",
    "import numpy as np\n",
    "\n",
    "def create_graph_graphql(ip):\n",
    "    # initialisation du graphe\n",
    "    gr = nx.DiGraph()\n",
    "\n",
    "    # requêtes au contrôleur ONOS\n",
    "    url = \"http://\"+ip+\":5000/graphql\"\n",
    "    liens_query = {'query': \"query{liens{src,dst}}\"}\n",
    "    host_query = {'query': \"query{hosts{id,locations}}\"}\n",
    "    r_hosts = requests.post(url, auth=HTTPBasicAuth('karaf','karaf'), data = host_query)\n",
    "    r_links = requests.post(url, auth=HTTPBasicAuth('karaf','karaf'), data = liens_query)\n",
    "\n",
    "    if (r_hosts.status_code != 200):\n",
    "        return \"Erreur sur la liste des hôtes.\"\n",
    "    elif (r_links.status_code != 200):\n",
    "        return \"Erreur sur la liste des liens.\"\n",
    "    else:\n",
    "        global host_list_mac_gq\n",
    "        host_list_mac_gq = []\n",
    "        host_list = r_hosts.json()['data']['hosts']\n",
    "        link_list = r_links.json()['data']['liens']\n",
    "        \n",
    "        for l in link_list:\n",
    "            gr.add_edge(l['src']['device'],l['dst']['device'],orig=l['src']['port'],dest=l['dst']['port'])\n",
    "            gr.add_edge(l['dst']['device'],l['src']['device'],orig=l['dst']['port'],dest=l['src']['port'])\n",
    "        \n",
    "        for h in host_list:\n",
    "            gr.add_node(h['id'],id=h['id'])\n",
    "            host_list_mac_gq.append(h['id'])\n",
    "            gr.add_edge(h['id'],h['locations'][0][\"elementId\"],orig=\"host\",dest=h['locations'][0][\"port\"])\n",
    "            gr.add_edge(h['locations'][0][\"elementId\"],h['id'],orig=h['locations'][0][\"port\"],dest=\"host\")\n",
    "        \n",
    "        return gr\n",
    "    \n",
    "def create_graph_rest(ip):\n",
    "    # initialisation du graphe\n",
    "    gr = nx.DiGraph()\n",
    "\n",
    "    # requêtes au contrôleur ONOS\n",
    "    r_host = requests.get(\"http://\"+ip+\":5000/hosts\", auth=HTTPBasicAuth('karaf','karaf'))\n",
    "    r_link = requests.get(\"http://\"+ip+\":5000/links\", auth=HTTPBasicAuth('karaf','karaf'))\n",
    "    if (r_host.status_code != 200):\n",
    "        return \"Erreur sur la liste des hôtes.\"\n",
    "    elif (r_link.status_code != 200):\n",
    "        return \"Erreur sur la liste des liens.\"\n",
    "    else:\n",
    "        global host_list_mac_re\n",
    "        host_list_mac_re = []\n",
    "        host_list = r_host.json()\n",
    "        link_list = r_link.json()\n",
    "        \n",
    "        for l in link_list:\n",
    "            gr.add_edge(l['src']['device'],l['dst']['device'],orig=l['src']['port'],dest=l['dst']['port'])\n",
    "            gr.add_edge(l['dst']['device'],l['src']['device'],orig=l['dst']['port'],dest=l['src']['port'])\n",
    "        \n",
    "        for h in host_list:\n",
    "            gr.add_node(h['id'],id=h['id'])\n",
    "            host_list_mac_re.append(h['id'])\n",
    "            gr.add_edge(h['id'],h['locations'][0][\"elementId\"],orig=\"host\",dest=h['locations'][0][\"port\"])\n",
    "            gr.add_edge(h['locations'][0][\"elementId\"],h['id'],orig=h['locations'][0][\"port\"],dest=\"host\")\n",
    "        \n",
    "        return gr\n",
    "\n",
    "gr_rest = create_graph_rest(\"192.168.56.101\")\n",
    "gr_graphql = create_graph_graphql(\"192.168.56.101\")"
   ]
  },
  {
   "cell_type": "markdown",
   "id": "251cafca",
   "metadata": {},
   "source": [
    "## Test 1 : topologie mininet torus,4,4 - 16 hôtes, 64 liens"
   ]
  },
  {
   "cell_type": "markdown",
   "id": "3276b837",
   "metadata": {},
   "source": [
    "- on sélectionne au hasard un nombre N de couples d'hôtes à relier\n",
    "- on installe les intents nécessaires au bon routage des paquets\n",
    "\n",
    "On génère tout d'abord une liste de 5, 20 et 50 couples d'hôtes à relier :"
   ]
  },
  {
   "cell_type": "code",
   "execution_count": 20,
   "id": "28b7b79e",
   "metadata": {},
   "outputs": [],
   "source": [
    "liste_couples = list(itertools.combinations(host_list_mac_re, 2))\n",
    "\n",
    "liste_5 = random.choices(liste_couples, k=5)\n",
    "liste_200 = random.choices(liste_couples, k=200)\n",
    "liste_500 = random.choices(liste_couples, k=500)"
   ]
  },
  {
   "cell_type": "markdown",
   "id": "b962306a",
   "metadata": {},
   "source": [
    "Pour chaque couple d'hôtes, on installe les intents :"
   ]
  },
  {
   "cell_type": "code",
   "execution_count": 21,
   "id": "ff8d146e",
   "metadata": {},
   "outputs": [
    {
     "name": "stdout",
     "output_type": "stream",
     "text": [
      "[1.4376873970031738, 77.67282724380493, 202.20626378059387]\n",
      "[1.4498841762542725, 75.56226229667664, 193.14106154441833]\n"
     ]
    },
    {
     "data": {
      "image/png": "[encoded data removed]",
      "text/plain": [
       "<Figure size 432x288 with 1 Axes>"
      ]
     },
     "metadata": {
      "needs_background": "light"
     },
     "output_type": "display_data"
    }
   ],
   "source": [
    "def install_intent_re(mac_o,mac_d,liste_chemin):\n",
    "    l=liste_chemin\n",
    "    fwd_orig = (\"\",\"\")\n",
    "    fwd_dest = (\"\",\"\")\n",
    "    mac_orig = mac_o.replace(\"/None\",\"\")\n",
    "    mac_dest = mac_d.replace(\"/None\",\"\")\n",
    "    for i in range(0,len(l)-1):\n",
    "        if i==len(l)-2:\n",
    "            port = gr_rest.get_edge_data(l[i],l[i+1])\n",
    "            fwd_dest = (l[i],port[\"orig\"])\n",
    "            intent_orig = fwd_orig[0]+\"-\"+fwd_orig[1]\n",
    "            intent_dest = fwd_dest[0]+\"-\"+fwd_dest[1]\n",
    "            r_intent = requests.get(\"http://192.168.56.101:5000/intent?orig=\"+intent_orig+\"&dest=\"+intent_dest\n",
    "            +\"&macorig=\"+mac_orig+\"&macdest=\"+mac_dest)\n",
    "            r_intent_inv = requests.get(\"http://192.168.56.101:5000/intent?orig=\"+intent_dest+\"&dest=\"+intent_orig\n",
    "            +\"&macorig=\"+mac_dest+\"&macdest=\"+mac_orig)\n",
    "        else:\n",
    "            port = gr_rest.get_edge_data(l[i],l[i+1])\n",
    "            if (port[\"orig\"]==\"host\"):\n",
    "                fwd_orig = (l[i+1],port[\"dest\"])\n",
    "            else:\n",
    "                fwd_dest = (l[i],port[\"orig\"])\n",
    "                if (port[\"orig\"]!=\"host\"):\n",
    "                    intent_orig = fwd_orig[0]+\"-\"+fwd_orig[1]\n",
    "                    intent_dest = fwd_dest[0]+\"-\"+fwd_dest[1]\n",
    "                    r_intent = requests.get(\"http://192.168.56.101:5000/intent?orig=\"+intent_orig+\"&dest=\"+intent_dest\n",
    "                    +\"&macorig=\"+mac_orig+\"&macdest=\"+mac_dest)\n",
    "                    r_intent_inv = requests.get(\"http://192.168.56.101:5000/intent?orig=\"+intent_dest+\"&dest=\"+intent_orig\n",
    "            +\"&macorig=\"+mac_dest+\"&macdest=\"+mac_orig)\n",
    "\n",
    "                    fwd_orig = (l[i+1],port[\"dest\"])\n",
    "                else:\n",
    "                    fwd_orig = (\"\",\"\")\n",
    "    return \"ok\"\n",
    "\n",
    "def install_intent_gq(mac_o,mac_d,liste_chemin):\n",
    "    l=liste_chemin\n",
    "    fwd_orig = (\"\",\"\")\n",
    "    fwd_dest = (\"\",\"\")\n",
    "    mac_orig = mac_o.replace(\"/None\",\"\")\n",
    "    mac_dest = mac_d.replace(\"/None\",\"\")\n",
    "    string_mut=\"mutation { \\n\"\n",
    "        \n",
    "\n",
    "    for i in range(0,len(l)-1):\n",
    "        if i==len(l)-2:\n",
    "            port = gr_graphql.get_edge_data(l[i],l[i+1])\n",
    "            fwd_dest = (l[i],port[\"orig\"])\n",
    "            intent_orig = fwd_orig[0]+\"/\"+fwd_orig[1]\n",
    "            intent_dest = fwd_dest[0]+\"/\"+fwd_dest[1]\n",
    "            string_mut += \"r\"+str(i)+\": addIntent(intent_orig: \\\"\"+intent_orig+\"\\\", mac_orig: \\\"\"+mac_orig+\"\\\", intent_dest: \\\"\"+intent_dest+\"\\\", mac_dest: \\\"\"+mac_dest+\"\\\") { intent_orig, intent_dest }\\n\"\n",
    "            string_mut += \"s\"+str(i)+\": addIntent(intent_orig: \\\"\"+intent_dest+\"\\\", mac_orig: \\\"\"+mac_dest+\"\\\", intent_dest: \\\"\"+intent_orig+\"\\\", mac_dest: \\\"\"+mac_orig+\"\\\") { intent_orig, intent_dest }\\n\"\n",
    "        else:\n",
    "            port = gr_graphql.get_edge_data(l[i],l[i+1])\n",
    "            if (port[\"orig\"]==\"host\"):\n",
    "                fwd_orig = (l[i+1],port[\"dest\"])\n",
    "            else:\n",
    "                fwd_dest = (l[i],port[\"orig\"])\n",
    "                if (port[\"orig\"]!=\"host\"):\n",
    "                    intent_orig = fwd_orig[0]+\"/\"+fwd_orig[1]\n",
    "                    intent_dest = fwd_dest[0]+\"/\"+fwd_dest[1]\n",
    "\n",
    "                    string_mut += \"r\"+str(i)+\": addIntent(intent_orig: \\\"\"+intent_orig+\"\\\", mac_orig: \\\"\"+mac_orig+\"\\\", intent_dest: \\\"\"+intent_dest+\"\\\", mac_dest: \\\"\"+mac_dest+\"\\\") { intent_orig, intent_dest }\\n\"\n",
    "                    string_mut += \"s\"+str(i)+\": addIntent(intent_orig: \\\"\"+intent_dest+\"\\\", mac_orig: \\\"\"+mac_dest+\"\\\", intent_dest: \\\"\"+intent_orig+\"\\\", mac_dest: \\\"\"+mac_orig+\"\\\") { intent_orig, intent_dest }\\n\"\n",
    "\n",
    "                    fwd_orig = (l[i+1],port[\"dest\"])\n",
    "                else:\n",
    "                    fwd_orig = (\"\",\"\")\n",
    "\n",
    "    string_mut += \"}\"\n",
    "    mutation_query = {'query': string_mut}\n",
    "    query_gql = requests.post(\"http://192.168.56.101:5000/graphql\", auth=HTTPBasicAuth('karaf','karaf'), data = mutation_query)\n",
    "    return \"ok\"\n",
    "\n",
    "tests1 = [liste_5, liste_200, liste_500]\n",
    "temps_re = []\n",
    "temps_gq = []\n",
    "for i in tests1:\n",
    "    start = time.time()\n",
    "    for elt in i:\n",
    "        # clean = requests.get(\"http://192.168.56.101:5000/removeIntents\")\n",
    "        install_intent_re(elt[0],elt[1],nx.shortest_path(gr_rest,elt[0],elt[1]))\n",
    "    end = time.time()\n",
    "    temps_re.append(end-start)\n",
    "\n",
    "for i in tests1:\n",
    "    start = time.time()\n",
    "    for elt in i:\n",
    "        # clean = requests.get(\"http://192.168.56.101:5000/removeIntents\")\n",
    "        install_intent_gq(elt[0],elt[1],nx.shortest_path(gr_graphql,elt[0],elt[1]))\n",
    "    end = time.time()\n",
    "    temps_gq.append(end-start)\n",
    "\n",
    "print(temps_re)\n",
    "print(temps_gq)\n",
    "\n",
    "labels = [\"5 couples\", \"200 couples\", \"500 couples\"]\n",
    "\n",
    "x = np.arange(len(labels))\n",
    "width = 0.35\n",
    "\n",
    "fig, ax = plt.subplots()\n",
    "rects1 = ax.bar(x - width/2, temps_re, width, label='Rest')\n",
    "rects2 = ax.bar(x + width/2, temps_gq, width, label='GraphQL')\n",
    "\n",
    "# Add some text for labels, title and custom x-axis tick labels, etc.\n",
    "ax.set_ylabel('Temps en secondes')\n",
    "ax.set_title('Temps de génération des intents')\n",
    "ax.set_xticks(x)\n",
    "ax.set_xticklabels(labels)\n",
    "ax.legend()\n",
    "\n",
    "ax.bar_label(rects1, padding=3)\n",
    "ax.bar_label(rects2, padding=3)\n",
    "\n",
    "fig.tight_layout()\n",
    "\n",
    "plt.show()"
   ]
  },
  {
   "cell_type": "code",
   "execution_count": null,
   "id": "eaa0959e",
   "metadata": {},
   "outputs": [],
   "source": []
  }
 ],
 "metadata": {
  "kernelspec": {
   "display_name": "Python 3 (ipykernel)",
   "language": "python",
   "name": "python3"
  },
  "language_info": {
   "codemirror_mode": {
    "name": "ipython",
    "version": 3
   },
   "file_extension": ".py",
   "mimetype": "text/x-python",
   "name": "python",
   "nbconvert_exporter": "python",
   "pygments_lexer": "ipython3",
   "version": "3.9.5"
  }
 },
 "nbformat": 4,
 "nbformat_minor": 5
}
