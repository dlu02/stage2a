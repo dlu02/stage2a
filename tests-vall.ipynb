{
 "cells": [
  {
   "cell_type": "markdown",
   "source": [
    "# Tests de performance application IPS-rest et IPS-graphql"
   ],
   "metadata": {}
  },
  {
   "cell_type": "markdown",
   "source": [
    "## Préparation : génération de la topologie et fonctions de génération d'intents"
   ],
   "metadata": {}
  },
  {
   "cell_type": "markdown",
   "source": [
    "Fonctions de création de la topologie avec les APIs Rest et GraphQL :"
   ],
   "metadata": {}
  },
  {
   "cell_type": "code",
   "execution_count": 1,
   "source": [
    "import requests\r\n",
    "from requests.auth import HTTPBasicAuth\r\n",
    "import networkx as nx\r\n",
    "import matplotlib.pyplot as plt\r\n",
    "import time\r\n",
    "import itertools\r\n",
    "import random\r\n",
    "import numpy as np\r\n",
    "\r\n",
    "gq_req_size = 0\r\n",
    "rest_req_size = 0\r\n",
    "ip = \"192.168.1.154\"\r\n",
    "\r\n",
    "def create_graph_graphql(ip):\r\n",
    "    global gq_req_size\r\n",
    "    # initialisation du graphe\r\n",
    "    gr = nx.DiGraph()\r\n",
    "\r\n",
    "    # requêtes au contrôleur ONOS\r\n",
    "    url = \"http://\"+ip+\":5000/graphql\"\r\n",
    "    liens_query = {'query': \"query{liens{src,dst}}\"}\r\n",
    "    host_query = {'query': \"query{hosts{id,locations}}\"}\r\n",
    "    r_hosts = requests.post(url, data = host_query)\r\n",
    "    r_links = requests.post(url, data = liens_query)\r\n",
    "    gq_req_size = len(r_hosts.content + r_links.content)\r\n",
    "\r\n",
    "    if (r_hosts.status_code != 200):\r\n",
    "        return \"Erreur sur la liste des hôtes.\"\r\n",
    "    elif (r_links.status_code != 200):\r\n",
    "        return \"Erreur sur la liste des liens.\"\r\n",
    "    else:\r\n",
    "        global host_list_mac_gq\r\n",
    "        host_list_mac_gq = []\r\n",
    "        host_list = r_hosts.json()['data']['hosts']\r\n",
    "        link_list = r_links.json()['data']['liens']\r\n",
    "        \r\n",
    "        for l in link_list:\r\n",
    "            gr.add_edge(l['src']['device'],l['dst']['device'],orig=l['src']['port'],dest=l['dst']['port'])\r\n",
    "            gr.add_edge(l['dst']['device'],l['src']['device'],orig=l['dst']['port'],dest=l['src']['port'])\r\n",
    "        \r\n",
    "        for h in host_list:\r\n",
    "            gr.add_node(h['id'],id=h['id'])\r\n",
    "            host_list_mac_gq.append(h['id'])\r\n",
    "            gr.add_edge(h['id'],h['locations'][0][\"elementId\"],orig=\"host\",dest=h['locations'][0][\"port\"])\r\n",
    "            gr.add_edge(h['locations'][0][\"elementId\"],h['id'],orig=h['locations'][0][\"port\"],dest=\"host\")\r\n",
    "        \r\n",
    "        return gr\r\n",
    "    \r\n",
    "def create_graph_rest(ip):\r\n",
    "    global rest_req_size\r\n",
    "    # initialisation du graphe\r\n",
    "    gr = nx.DiGraph()\r\n",
    "\r\n",
    "    # requêtes au contrôleur ONOS\r\n",
    "    r_host = requests.get(\"http://\"+ip+\":5000/hosts\")\r\n",
    "    r_link = requests.get(\"http://\"+ip+\":5000/links\")\r\n",
    "    rest_req_size = len(r_host.content + r_link.content)\r\n",
    "    if (r_host.status_code != 200):\r\n",
    "        return \"Erreur sur la liste des hôtes.\"\r\n",
    "    elif (r_link.status_code != 200):\r\n",
    "        return \"Erreur sur la liste des liens.\"\r\n",
    "    else:\r\n",
    "        global host_list_mac_re\r\n",
    "        host_list_mac_re = []\r\n",
    "        host_list = r_host.json()\r\n",
    "        link_list = r_link.json()\r\n",
    "        \r\n",
    "        for l in link_list:\r\n",
    "            gr.add_edge(l['src']['device'],l['dst']['device'],orig=l['src']['port'],dest=l['dst']['port'])\r\n",
    "            gr.add_edge(l['dst']['device'],l['src']['device'],orig=l['dst']['port'],dest=l['src']['port'])\r\n",
    "        \r\n",
    "        for h in host_list:\r\n",
    "            gr.add_node(h['id'],id=h['id'])\r\n",
    "            host_list_mac_re.append(h['id'])\r\n",
    "            gr.add_edge(h['id'],h['locations'][0][\"elementId\"],orig=\"host\",dest=h['locations'][0][\"port\"])\r\n",
    "            gr.add_edge(h['locations'][0][\"elementId\"],h['id'],orig=h['locations'][0][\"port\"],dest=\"host\")\r\n",
    "        \r\n",
    "        return gr"
   ],
   "outputs": [],
   "metadata": {}
  },
  {
   "cell_type": "markdown",
   "source": [
    "Fonctions de génération d'intents"
   ],
   "metadata": {}
  },
  {
   "cell_type": "code",
   "execution_count": 2,
   "source": [
    "def install_intent_re(gr_rest,mac_o,mac_d,liste_chemin,count):\r\n",
    "    l=liste_chemin\r\n",
    "    fwd_orig = (\"\",\"\")\r\n",
    "    fwd_dest = (\"\",\"\")\r\n",
    "    mac_orig = mac_o.replace(\"/None\",\"\")\r\n",
    "    mac_dest = mac_d.replace(\"/None\",\"\")\r\n",
    "    for i in range(0,len(l)-1):\r\n",
    "        if i==len(l)-2:\r\n",
    "            port = gr_rest.get_edge_data(l[i],l[i+1])\r\n",
    "            fwd_dest = (l[i],port[\"orig\"])\r\n",
    "            intent_orig = fwd_orig[0]+\"-\"+fwd_orig[1]\r\n",
    "            intent_dest = fwd_dest[0]+\"-\"+fwd_dest[1]\r\n",
    "            \r\n",
    "            r_intent = requests.get(\"http://\"+ip+\":5000/intent?orig=\"+intent_orig+\"&dest=\"+intent_dest\r\n",
    "            +\"&macorig=\"+mac_orig+\"&macdest=\"+mac_dest)\r\n",
    "            r_intent_inv = requests.get(\"http://\"+ip+\":5000/intent?orig=\"+intent_dest+\"&dest=\"+intent_orig\r\n",
    "            +\"&macorig=\"+mac_dest+\"&macdest=\"+mac_orig)\r\n",
    "            count += 2\r\n",
    "        else:\r\n",
    "            port = gr_rest.get_edge_data(l[i],l[i+1])\r\n",
    "            if (port[\"orig\"]==\"host\"):\r\n",
    "                fwd_orig = (l[i+1],port[\"dest\"])\r\n",
    "            else:\r\n",
    "                fwd_dest = (l[i],port[\"orig\"])\r\n",
    "                if (port[\"orig\"]!=\"host\"):\r\n",
    "                    intent_orig = fwd_orig[0]+\"-\"+fwd_orig[1]\r\n",
    "                    intent_dest = fwd_dest[0]+\"-\"+fwd_dest[1]\r\n",
    "                    \r\n",
    "                    r_intent = requests.get(\"http://\"+ip+\":5000/intent?orig=\"+intent_orig+\"&dest=\"+intent_dest\r\n",
    "                    +\"&macorig=\"+mac_orig+\"&macdest=\"+mac_dest)\r\n",
    "                    r_intent_inv = requests.get(\"http://\"+ip+\":5000/intent?orig=\"+intent_dest+\"&dest=\"+intent_orig\r\n",
    "                    +\"&macorig=\"+mac_dest+\"&macdest=\"+mac_orig)\r\n",
    "                    count += 2\r\n",
    "\r\n",
    "                    fwd_orig = (l[i+1],port[\"dest\"])\r\n",
    "                else:\r\n",
    "                    fwd_orig = (\"\",\"\")\r\n",
    "    return count\r\n",
    "\r\n",
    "def install_intent_gq(gr_graphql,mac_o,mac_d,liste_chemin,count):\r\n",
    "    l=liste_chemin\r\n",
    "    fwd_orig = (\"\",\"\")\r\n",
    "    fwd_dest = (\"\",\"\")\r\n",
    "    mac_orig = mac_o.replace(\"/None\",\"\")\r\n",
    "    mac_dest = mac_d.replace(\"/None\",\"\")\r\n",
    "    string_mut=\"mutation { \\n\"\r\n",
    "    \r\n",
    "    for i in range(0,len(l)-1):\r\n",
    "        if i==len(l)-2:\r\n",
    "            port = gr_graphql.get_edge_data(l[i],l[i+1])\r\n",
    "            fwd_dest = (l[i],port[\"orig\"])\r\n",
    "            intent_orig = fwd_orig[0]+\"/\"+fwd_orig[1]\r\n",
    "            intent_dest = fwd_dest[0]+\"/\"+fwd_dest[1]\r\n",
    "            string_mut += \"r\"+str(i)+\": addIntent(intent_orig: \\\"\"+intent_orig+\"\\\", mac_orig: \\\"\"+mac_orig+\"\\\", intent_dest: \\\"\"+intent_dest+\"\\\", mac_dest: \\\"\"+mac_dest+\"\\\") { intent_orig, intent_dest }\\n\"\r\n",
    "            string_mut += \"s\"+str(i)+\": addIntent(intent_orig: \\\"\"+intent_dest+\"\\\", mac_orig: \\\"\"+mac_dest+\"\\\", intent_dest: \\\"\"+intent_orig+\"\\\", mac_dest: \\\"\"+mac_orig+\"\\\") { intent_orig, intent_dest }\\n\"\r\n",
    "        else:\r\n",
    "            port = gr_graphql.get_edge_data(l[i],l[i+1])\r\n",
    "            if (port[\"orig\"]==\"host\"):\r\n",
    "                fwd_orig = (l[i+1],port[\"dest\"])\r\n",
    "            else:\r\n",
    "                fwd_dest = (l[i],port[\"orig\"])\r\n",
    "                if (port[\"orig\"]!=\"host\"):\r\n",
    "                    intent_orig = fwd_orig[0]+\"/\"+fwd_orig[1]\r\n",
    "                    intent_dest = fwd_dest[0]+\"/\"+fwd_dest[1]\r\n",
    "\r\n",
    "                    string_mut += \"r\"+str(i)+\": addIntent(intent_orig: \\\"\"+intent_orig+\"\\\", mac_orig: \\\"\"+mac_orig+\"\\\", intent_dest: \\\"\"+intent_dest+\"\\\", mac_dest: \\\"\"+mac_dest+\"\\\") { intent_orig, intent_dest }\\n\"\r\n",
    "                    string_mut += \"s\"+str(i)+\": addIntent(intent_orig: \\\"\"+intent_dest+\"\\\", mac_orig: \\\"\"+mac_dest+\"\\\", intent_dest: \\\"\"+intent_orig+\"\\\", mac_dest: \\\"\"+mac_orig+\"\\\") { intent_orig, intent_dest }\\n\"\r\n",
    "\r\n",
    "                    fwd_orig = (l[i+1],port[\"dest\"])\r\n",
    "                else:\r\n",
    "                    fwd_orig = (\"\",\"\")\r\n",
    "\r\n",
    "    string_mut += \"}\"\r\n",
    "    mutation_query = {'query': string_mut}\r\n",
    "    query_gql = requests.post(\"http://\"+ip+\":5000/graphql\", data = mutation_query)\r\n",
    "    return count+1\r\n",
    "\r\n",
    "def liste_couples_res():\r\n",
    "    liste_couples = list(itertools.combinations(host_list_mac_re, 2))\r\n",
    "    liste_res = []\r\n",
    "\r\n",
    "    global ent\r\n",
    "    ent = np.floor(len(liste_couples)/10).astype(int)\r\n",
    "    for i in range(1,11):\r\n",
    "        liste_res.append(random.choices(liste_couples, k=ent*i))\r\n",
    "    return liste_res\r\n",
    "\r\n",
    "def do_install_intent(gr_rest,gr_graphql):\r\n",
    "    temps_re = []\r\n",
    "    temps_gq = []\r\n",
    "\r\n",
    "    count_re = []\r\n",
    "    count_gq = []\r\n",
    "\r\n",
    "    liste_couples = liste_couples_res()\r\n",
    "\r\n",
    "    for i in liste_couples:\r\n",
    "        count = 0\r\n",
    "        start = time.time()\r\n",
    "        for elt in i:\r\n",
    "            # clean = requests.get(\"http://\"+ip+\":5000/removeIntents\")\r\n",
    "            count = install_intent_re(gr_rest,elt[0],elt[1],nx.shortest_path(gr_rest,elt[0],elt[1]),count)\r\n",
    "        end = time.time()\r\n",
    "        temps_re.append(round(end-start,1))\r\n",
    "        count_re.append(count)\r\n",
    "\r\n",
    "    for i in liste_couples:\r\n",
    "        count = 0\r\n",
    "        start = time.time()\r\n",
    "        for elt in i:\r\n",
    "            # clean = requests.get(\"http://\"+ip+\":5000/removeIntents\")\r\n",
    "            count = install_intent_gq(gr_graphql,elt[0],elt[1],nx.shortest_path(gr_graphql,elt[0],elt[1]),count)\r\n",
    "        end = time.time()\r\n",
    "        temps_gq.append(round(end-start,1))\r\n",
    "        count_gq.append(count)\r\n",
    "\r\n",
    "    return [temps_re,temps_gq,count_re,count_gq]\r\n",
    "\r\n",
    "def trace_resultats(l):\r\n",
    "    pourc = []\r\n",
    "    pourc2 = []\r\n",
    "    for i in range(0,10):\r\n",
    "        pourc.append((l[0][i]-l[1][i])*100/l[0][i])\r\n",
    "        pourc2.append((l[2][i]-l[3][i])*100/l[2][i])\r\n",
    "    print(pourc)\r\n",
    "    print(np.mean(pourc))\r\n",
    "    print(pourc2)\r\n",
    "    print(np.mean(pourc2))\r\n",
    "\r\n",
    "    labels = []\r\n",
    "    for i in range(1,11):\r\n",
    "        labels.append(str(ent*i))\r\n",
    "\r\n",
    "    x = np.arange(len(labels))\r\n",
    "    width = 0.42\r\n",
    "\r\n",
    "    fig, ax = plt.subplots(figsize=(17,8))\r\n",
    "    fig2, ax2 = plt.subplots(figsize=(17,8))\r\n",
    "\r\n",
    "    rects1 = ax.bar(x - width/2, l[0], width, label='Rest')\r\n",
    "    rects2 = ax.bar(x + width/2, l[1], width, label='GraphQL')\r\n",
    "\r\n",
    "    rects3 = ax2.bar(x - width/2, l[2], width, label='Rest')\r\n",
    "    rects4 = ax2.bar(x + width/2, l[3], width, label='GraphQL')\r\n",
    "\r\n",
    "    # Add some text for labels, title and custom x-axis tick labels, etc.\r\n",
    "    ax.set_xlabel('Nombre de couples générés')\r\n",
    "    ax.set_ylabel('Temps en secondes')\r\n",
    "    ax.set_title('Temps de génération des intents')\r\n",
    "    ax.set_xticks(x)\r\n",
    "    ax.set_xticklabels(labels)\r\n",
    "    ax.legend()\r\n",
    "\r\n",
    "    ax.bar_label(rects1)\r\n",
    "    ax.bar_label(rects2)\r\n",
    "\r\n",
    "    fig.tight_layout()\r\n",
    "\r\n",
    "    ax2.set_xlabel('Nombre de couples générés')\r\n",
    "    ax2.set_ylabel('Nombre de requêtes')\r\n",
    "    ax2.set_title('Nombre de requêtes nécessaires à la génération des intents')\r\n",
    "    ax2.set_xticks(x)\r\n",
    "    ax2.set_xticklabels(labels)\r\n",
    "    ax2.legend()\r\n",
    "\r\n",
    "    ax2.bar_label(rects3)\r\n",
    "    ax2.bar_label(rects4)\r\n",
    "\r\n",
    "    fig2.tight_layout()\r\n",
    "\r\n",
    "    plt.rcParams[\"font.size\"] = \"20\"\r\n",
    "    plt.show()"
   ],
   "outputs": [],
   "metadata": {}
  },
  {
   "cell_type": "markdown",
   "source": [
    "## Tests : méthode"
   ],
   "metadata": {}
  },
  {
   "cell_type": "markdown",
   "source": [
    "- on compte le nombre d'hôtes N de la topologie : le nombre de paires d'hôtes à relier au total est alors T = N*(N-1)/2\r\n",
    "- on calcule une liste L de 10 nombres Ti régulièrement espacés de paires d'hôtes à relier, qui seront choisis au hasard parmi la liste de toutes les paires d'hôtes de la topologie\r\n",
    "- pour chaque liste de paires d'hôtes à relier, on installe les intents nécessaires pour router correctement tous les paquets entre chaque paire d'hôte"
   ],
   "metadata": {}
  },
  {
   "cell_type": "markdown",
   "source": [
    "### T1 : topologie torus,3,3 : 9 hôtes, 36 liens"
   ],
   "metadata": {}
  },
  {
   "cell_type": "code",
   "execution_count": 3,
   "source": [
    "gr_rest = create_graph_rest(ip)\r\n",
    "gr_graphql = create_graph_graphql(ip)\r\n",
    "\r\n",
    "l = do_install_intent(gr_rest,gr_graphql)\r\n",
    "print(l)"
   ],
   "outputs": [
    {
     "output_type": "stream",
     "name": "stdout",
     "text": [
      "[[0.0, 0.1, 0.1, 0.1, 0.1, 0.2, 0.2, 0.3, 0.3, 0.3], [1.5, 2.6, 3.3, 4.7, 5.2, 6.9, 8.2, 9.6, 10.5, 12.2], [14, 30, 40, 58, 68, 92, 108, 124, 138, 154], [3, 6, 9, 12, 15, 18, 21, 24, 27, 30]]\n"
     ]
    }
   ],
   "metadata": {}
  },
  {
   "cell_type": "code",
   "execution_count": 4,
   "source": [
    "trace_resultats(l)"
   ],
   "outputs": [
    {
     "output_type": "error",
     "ename": "ZeroDivisionError",
     "evalue": "float division by zero",
     "traceback": [
      "\u001b[1;31m---------------------------------------------------------------------------\u001b[0m",
      "\u001b[1;31mZeroDivisionError\u001b[0m                         Traceback (most recent call last)",
      "\u001b[1;32m~\\AppData\\Local\\Temp/ipykernel_2640/1901985050.py\u001b[0m in \u001b[0;36m<module>\u001b[1;34m\u001b[0m\n\u001b[1;32m----> 1\u001b[1;33m \u001b[0mtrace_resultats\u001b[0m\u001b[1;33m(\u001b[0m\u001b[0ml\u001b[0m\u001b[1;33m)\u001b[0m\u001b[1;33m\u001b[0m\u001b[1;33m\u001b[0m\u001b[0m\n\u001b[0m",
      "\u001b[1;32m~\\AppData\\Local\\Temp/ipykernel_2640/333073198.py\u001b[0m in \u001b[0;36mtrace_resultats\u001b[1;34m(l)\u001b[0m\n\u001b[0;32m    123\u001b[0m     \u001b[0mpourc2\u001b[0m \u001b[1;33m=\u001b[0m \u001b[1;33m[\u001b[0m\u001b[1;33m]\u001b[0m\u001b[1;33m\u001b[0m\u001b[1;33m\u001b[0m\u001b[0m\n\u001b[0;32m    124\u001b[0m     \u001b[1;32mfor\u001b[0m \u001b[0mi\u001b[0m \u001b[1;32min\u001b[0m \u001b[0mrange\u001b[0m\u001b[1;33m(\u001b[0m\u001b[1;36m0\u001b[0m\u001b[1;33m,\u001b[0m\u001b[1;36m10\u001b[0m\u001b[1;33m)\u001b[0m\u001b[1;33m:\u001b[0m\u001b[1;33m\u001b[0m\u001b[1;33m\u001b[0m\u001b[0m\n\u001b[1;32m--> 125\u001b[1;33m         \u001b[0mpourc\u001b[0m\u001b[1;33m.\u001b[0m\u001b[0mappend\u001b[0m\u001b[1;33m(\u001b[0m\u001b[1;33m(\u001b[0m\u001b[0ml\u001b[0m\u001b[1;33m[\u001b[0m\u001b[1;36m0\u001b[0m\u001b[1;33m]\u001b[0m\u001b[1;33m[\u001b[0m\u001b[0mi\u001b[0m\u001b[1;33m]\u001b[0m\u001b[1;33m-\u001b[0m\u001b[0ml\u001b[0m\u001b[1;33m[\u001b[0m\u001b[1;36m1\u001b[0m\u001b[1;33m]\u001b[0m\u001b[1;33m[\u001b[0m\u001b[0mi\u001b[0m\u001b[1;33m]\u001b[0m\u001b[1;33m)\u001b[0m\u001b[1;33m*\u001b[0m\u001b[1;36m100\u001b[0m\u001b[1;33m/\u001b[0m\u001b[0ml\u001b[0m\u001b[1;33m[\u001b[0m\u001b[1;36m0\u001b[0m\u001b[1;33m]\u001b[0m\u001b[1;33m[\u001b[0m\u001b[0mi\u001b[0m\u001b[1;33m]\u001b[0m\u001b[1;33m)\u001b[0m\u001b[1;33m\u001b[0m\u001b[1;33m\u001b[0m\u001b[0m\n\u001b[0m\u001b[0;32m    126\u001b[0m         \u001b[0mpourc2\u001b[0m\u001b[1;33m.\u001b[0m\u001b[0mappend\u001b[0m\u001b[1;33m(\u001b[0m\u001b[1;33m(\u001b[0m\u001b[0ml\u001b[0m\u001b[1;33m[\u001b[0m\u001b[1;36m2\u001b[0m\u001b[1;33m]\u001b[0m\u001b[1;33m[\u001b[0m\u001b[0mi\u001b[0m\u001b[1;33m]\u001b[0m\u001b[1;33m-\u001b[0m\u001b[0ml\u001b[0m\u001b[1;33m[\u001b[0m\u001b[1;36m3\u001b[0m\u001b[1;33m]\u001b[0m\u001b[1;33m[\u001b[0m\u001b[0mi\u001b[0m\u001b[1;33m]\u001b[0m\u001b[1;33m)\u001b[0m\u001b[1;33m*\u001b[0m\u001b[1;36m100\u001b[0m\u001b[1;33m/\u001b[0m\u001b[0ml\u001b[0m\u001b[1;33m[\u001b[0m\u001b[1;36m2\u001b[0m\u001b[1;33m]\u001b[0m\u001b[1;33m[\u001b[0m\u001b[0mi\u001b[0m\u001b[1;33m]\u001b[0m\u001b[1;33m)\u001b[0m\u001b[1;33m\u001b[0m\u001b[1;33m\u001b[0m\u001b[0m\n\u001b[0;32m    127\u001b[0m     \u001b[0mprint\u001b[0m\u001b[1;33m(\u001b[0m\u001b[0mpourc\u001b[0m\u001b[1;33m)\u001b[0m\u001b[1;33m\u001b[0m\u001b[1;33m\u001b[0m\u001b[0m\n",
      "\u001b[1;31mZeroDivisionError\u001b[0m: float division by zero"
     ]
    }
   ],
   "metadata": {}
  },
  {
   "cell_type": "markdown",
   "source": [
    "### T2 : topologie torus,4,4 : 16 hôtes, 64 liens"
   ],
   "metadata": {}
  },
  {
   "cell_type": "code",
   "execution_count": null,
   "source": [
    "gr_rest = create_graph_rest(ip)\r\n",
    "gr_graphql = create_graph_graphql(ip)\r\n",
    "\r\n",
    "l = do_install_intent(gr_rest,gr_graphql)\r\n",
    "print(l)"
   ],
   "outputs": [
    {
     "output_type": "stream",
     "name": "stdout",
     "text": [
      "[[1.2, 2.4, 3.4, 4.6, 5.8, 7.3, 8.1, 9.6, 10.6, 11.7], [1.1, 2.4, 3.6, 4.5, 5.6, 7.2, 8.0, 9.1, 9.9, 11.4], [16, 32, 46, 60, 74, 94, 104, 122, 130, 148], [3, 6, 9, 12, 15, 18, 21, 24, 27, 30]]\n"
     ]
    }
   ],
   "metadata": {}
  },
  {
   "cell_type": "code",
   "execution_count": null,
   "source": [
    "trace_resultats(l)"
   ],
   "outputs": [],
   "metadata": {}
  }
 ],
 "metadata": {
  "kernelspec": {
   "name": "python3",
   "display_name": "Python 3.9.5 64-bit"
  },
  "language_info": {
   "codemirror_mode": {
    "name": "ipython",
    "version": 3
   },
   "file_extension": ".py",
   "mimetype": "text/x-python",
   "name": "python",
   "nbconvert_exporter": "python",
   "pygments_lexer": "ipython3",
   "version": "3.9.5"
  },
  "interpreter": {
   "hash": "ac59ebe37160ed0dfa835113d9b8498d9f09ceb179beaac4002f036b9467c963"
  }
 },
 "nbformat": 4,
 "nbformat_minor": 5
}